{
  "nbformat": 4,
  "nbformat_minor": 0,
  "metadata": {
    "colab": {
      "provenance": []
    },
    "kernelspec": {
      "name": "python3",
      "display_name": "Python 3"
    },
    "language_info": {
      "name": "python"
    }
  },
  "cells": [
    {
      "cell_type": "code",
      "source": [
        "import numpy as np\n",
        "import pandas as pd\n",
        "import matplotlib.pyplot as plt\n",
        "%matplotlib inline"
      ],
      "metadata": {
        "id": "c3UBaahzg7qq"
      },
      "execution_count": null,
      "outputs": []
    },
    {
      "cell_type": "code",
      "source": [
        "# A function to plot images\n",
        "def show_image(img):\n",
        "    image = img.reshape((28, 28))\n",
        "    plt.imshow(image, 'gray')"
      ],
      "metadata": {
        "id": "cBZVfN7SqWZ9"
      },
      "execution_count": 106,
      "outputs": []
    },
    {
      "cell_type": "code",
      "source": [
        "import numpy as np\n",
        "import matplotlib.pyplot as plt\n",
        "\n",
        "# A function to plot images\n",
        "def show_image(img):\n",
        "    image = img.reshape((28, 28))\n",
        "    plt.imshow(image, 'gray')\n",
        "\n",
        "\n",
        "# Reading The Train Set\n",
        "train_images_file = open('train-images.idx3-ubyte', 'rb')\n",
        "train_images_file.seek(4)\n",
        "num_of_train_images = int.from_bytes(train_images_file.read(4), 'big')\n",
        "train_images_file.seek(16)\n",
        "\n",
        "train_labels_file = open('train-labels.idx1-ubyte', 'rb')\n",
        "train_labels_file.seek(8)\n",
        "\n",
        "train_set = []\n",
        "X_train = []\n",
        "y_train = []\n",
        "for n in range(num_of_train_images):\n",
        "    image = np.zeros((784, 1))\n",
        "    for i in range(784):\n",
        "        image[i, 0] = int.from_bytes(train_images_file.read(1), 'big') / 256\n",
        "    X_train.append(image)\n",
        "    label_value = int.from_bytes(train_labels_file.read(1), 'big')\n",
        "    label = np.zeros((10, 1))\n",
        "    label[label_value, 0] = 1\n",
        "    y_train.append(label)\n",
        "    train_set.append((image, label))\n",
        "\n",
        "\n",
        "# Reading The Test Set\n",
        "test_images_file = open('t10k-images.idx3-ubyte', 'rb')\n",
        "test_images_file.seek(4)\n",
        "\n",
        "test_labels_file = open('t10k-labels.idx1-ubyte', 'rb')\n",
        "test_labels_file.seek(8)\n",
        "\n",
        "num_of_test_images = int.from_bytes(test_images_file.read(4), 'big')\n",
        "test_images_file.seek(16)\n",
        "\n",
        "test_set, X_test, y_test = [], [], []\n",
        "for n in range(num_of_test_images):\n",
        "    image = np.zeros((784, 1))\n",
        "    for i in range(784):\n",
        "        image[i] = int.from_bytes(test_images_file.read(1), 'big') / 256\n",
        "    X_test.append(image)\n",
        "    label_value = int.from_bytes(test_labels_file.read(1), 'big')\n",
        "    label = np.zeros((10, 1))\n",
        "    label[label_value, 0] = 1\n",
        "    y_test.append(label)\n",
        "    test_set.append((image, label))\n",
        "\n",
        "\n",
        "# Plotting an image\n",
        "show_image(train_set[0][0])\n",
        "plt.show()"
      ],
      "metadata": {
        "colab": {
          "base_uri": "https://localhost:8080/",
          "height": 265
        },
        "id": "XkpvRKv_syp5",
        "outputId": "e0ab0229-88fe-4a15-a8ea-136ef6a24161"
      },
      "execution_count": 124,
      "outputs": [
        {
          "output_type": "display_data",
          "data": {
            "text/plain": [
              "<Figure size 432x288 with 1 Axes>"
            ],
            "image/png": "[encoded data removed]"
          },
          "metadata": {
            "needs_background": "light"
          }
        }
      ]
    },
    {
      "cell_type": "markdown",
      "source": [
        "1) Feed Forward"
      ],
      "metadata": {
        "id": "FgFqb55WHab8"
      }
    },
    {
      "cell_type": "code",
      "source": [
        "def sigmoid(x) : \n",
        "  return 1 / (1 + np.exp(-x))"
      ],
      "metadata": {
        "id": "VRCRGFNElnwB"
      },
      "execution_count": 125,
      "outputs": []
    },
    {
      "cell_type": "code",
      "source": [
        "# Feed Forward Approach :\n",
        "# 1) initializing necessary variables \n",
        "num_of_train_images = 100\n",
        "input_neurons = 784\n",
        "output_neurons = 10\n",
        "hidden_layer_neurons = 16\n",
        "\n",
        "# 2) initialize the weights and biases \n",
        "weight1 = np.random.normal(size = (hidden_layer_neurons, input_neurons))\n",
        "weight2 = np.random.normal(size = (hidden_layer_neurons, hidden_layer_neurons))\n",
        "weight3 = np.random.normal(size = (output_neurons, hidden_layer_neurons))\n",
        "bias1 = np.zeros((16, 1))\n",
        "bias2 = np.zeros((16, 1))\n",
        "bias3 = np.zeros((10, 1))\n",
        "\n",
        "# 3) find sigmoid of each layer\n",
        "counter = 0 \n",
        "for i in range(num_of_train_images) : \n",
        "    A0 = X_train[i].reshape(-1, 1)\n",
        "    A1 = sigmoid(weight1 @ A0 + bias1)\n",
        "    A2 = sigmoid(weight2 @ A1 + bias2)\n",
        "    A3 = sigmoid(weight3 @ A2 + bias3)\n",
        "    output_result = np.argmax(A3)\n",
        "    # print(output_result)\n",
        "#     print(\"result:\", output_result)\n",
        "    label = np.argmax(y_train[i], axis=0)\n",
        "#     print(np.argmax(label))\n",
        "    # print('label :', label)\n",
        "    if output_result == label :\n",
        "        counter += 1\n",
        "# # 4) print the requested accuracy after feed forward\n",
        "print(counter / num_of_train_images * 100)\n"
      ],
      "metadata": {
        "colab": {
          "base_uri": "https://localhost:8080/"
        },
        "id": "bHi75gVVipWD",
        "outputId": "0dcf14fe-ca63-4da3-ed08-f111b327b7f4"
      },
      "execution_count": 177,
      "outputs": [
        {
          "output_type": "stream",
          "name": "stdout",
          "text": [
            "4.0\n"
          ]
        }
      ]
    },
    {
      "cell_type": "markdown",
      "source": [
        "2) Back Propagation"
      ],
      "metadata": {
        "id": "mA8UC9VaHeZe"
      }
    },
    {
      "cell_type": "code",
      "source": [
        "from datetime import datetime"
      ],
      "metadata": {
        "id": "vhqKW8xnyxss"
      },
      "execution_count": 163,
      "outputs": []
    },
    {
      "cell_type": "code",
      "source": [
        "# back propagation using the project description's pseudo code :\n",
        "\n",
        "weight1 = np.random.normal(size = (hidden_layer_neurons, input_neurons))\n",
        "weight2 = np.random.normal(size = (hidden_layer_neurons, hidden_layer_neurons))\n",
        "weight3 = np.random.normal(size = (output_neurons, hidden_layer_neurons))\n",
        "bias1 = np.zeros((16, 1))\n",
        "bias2 = np.zeros((16, 1))\n",
        "bias3 = np.zeros((10, 1))\n",
        "\n",
        "\n",
        "learning_rate = 1\n",
        "number_of_epochs = 20\n",
        "batch_size = 10\n",
        "\n",
        "total_cost = []\n",
        "start = datetime.now()\n",
        "\n",
        "for i in range(0, number_of_epochs) : \n",
        "  batches = [train_set[x : x + batch_size] for x in range(0, num_of_train_images, batch_size)]\n",
        "  for batch in batches :\n",
        "\n",
        "    gradient_weight1 = np.zeros((hidden_layer_neurons, input_neurons))\n",
        "    gradient_weight2 = np.zeros((hidden_layer_neurons, hidden_layer_neurons))\n",
        "    gradient_weight3 = np.zeros((output_neurons, hidden_layer_neurons))\n",
        "\n",
        "    gradient_bias1 = np.zeros((16, 1))\n",
        "    gradient_bias2 = np.zeros((16, 1))\n",
        "    gradient_bias3 = np.zeros((10, 1))\n",
        "    \n",
        "    for img, lbl in batch :\n",
        "      \n",
        "      a1 = sigmoid(weight1 @ img + bias1)\n",
        "      a2 = sigmoid(weight2 @ a1 + bias2)\n",
        "      a3 = sigmoid(weight3 @ a2 + bias3)\n",
        "\n",
        "      for j in range(gradient_weight3.shape[0]) : \n",
        "        for k in range(gradient_weight3.shape[1]) : \n",
        "          gradient_weight3[j, k] += 2 * (a3[j, 0] - lbl[j, 0]) * a3[j, 0] * (1 - a3[j, 0]) * a2[k, 0]\n",
        "\n",
        "      for j in range(gradient_bias3.shape[0]):\n",
        "          gradient_bias3[j, 0] += 2 * (a3[j, 0] - lbl[j, 0]) * a3[j, 0] * (1 - a3[j, 0])\n",
        "            \n",
        "            \n",
        "      activation_2 = np.zeros((16, 1))\n",
        "      for k in range(hidden_layer_neurons):\n",
        "          for j in range(output_neurons):\n",
        "                    activation_2[k, 0] += 2 * (a3[j, 0] - lbl[j, 0]) * a2[j, 0] * (1 - a2[j, 0]) * weight3[j, k]\n",
        "            \n",
        "            \n",
        "      for k in range(gradient_weight2.shape[0]):\n",
        "          for m in range(gradient_weight2.shape[1]):\n",
        "                    gradient_weight2[k, m] += activation_2[k, 0] * a2[k,0] * (1 - a2[k, 0]) * a1[m, 0]\n",
        "            \n",
        "            \n",
        "      for k in range(gradient_bias2.shape[0]):\n",
        "          gradient_bias2[k, 0] += activation_2[k, 0] * a2[k, 0] * (1 - a2[k, 0])\n",
        "                    \n",
        "            \n",
        "      activation_1 = np.zeros((16, 1))\n",
        "      for m in range(hidden_layer_neurons):\n",
        "          for k in range(hidden_layer_neurons):\n",
        "                  activation_1[m, 0] += activation_2[k, 0] * a1[k, 0] * (1 - a1[k, 0]) * weight2[k, m]\n",
        "            \n",
        "           \n",
        "      for m in range(gradient_weight1.shape[0]):\n",
        "          for v in range(gradient_weight1.shape[1]):\n",
        "                  gradient_weight1[m, v] += activation_1[m, 0] * a1[m,0] * (1 - a1[m, 0]) * img[v, 0]\n",
        "\n",
        "            \n",
        "      for m in range(gradient_bias1.shape[0]):\n",
        "          gradient_bias1[m, 0] += activation_1[m, 0] * a1[m, 0] * (1 - a1[m, 0])\n",
        "        \n",
        "    weight3 = weight3 - (learning_rate * (gradient_weight3 / batch_size))\n",
        "    weight2 = weight2 - (learning_rate * (gradient_weight2 / batch_size))\n",
        "    weight1 = weight1 - (learning_rate * (gradient_weight1 / batch_size))\n",
        "        \n",
        "    bias3 = bias3 - (learning_rate * (gradient_bias3 / batch_size))\n",
        "    bias2 = bias2 - (learning_rate * (gradient_bias2 / batch_size))\n",
        "    bias1 = bias1 - (learning_rate * (gradient_bias1 / batch_size))\n",
        "    \n",
        "   \n",
        "  cost = 0\n",
        "  for train_data in train_set[:num_of_train_images]:\n",
        "        a0 = train_data[0]\n",
        "        # print(a0.shape)\n",
        "        a1 = sigmoid(weight1 @ a0 + bias1)\n",
        "        a2 = sigmoid(weight2 @ a1 + bias2)\n",
        "        a3 = sigmoid(weight3 @ a2 + bias3)\n",
        "\n",
        "        for j in range(output_neurons):\n",
        "            cost += np.power((a3[j, 0] - train_data[1][j, 0]), 2)\n",
        "            \n",
        "  cost /= num_of_train_images\n",
        "  total_cost.append(cost) \n",
        "    \n",
        "# get the finish time\n",
        "finish = datetime.now()      \n"
      ],
      "metadata": {
        "id": "y_rp2vloHp7p"
      },
      "execution_count": 178,
      "outputs": []
    },
    {
      "cell_type": "code",
      "source": [
        "# show \n",
        "epoch_size = [x for x in range(number_of_epochs)]\n",
        "plt.plot(epoch_size, total_cost, '-b', label = 'train')\n",
        "plt.legend()\n",
        "# find accurancy\n",
        "counter = 0\n",
        "print(len(train_set))\n",
        "for train_data in train_set[:num_of_train_images]:\n",
        "    # counter += 1\n",
        "    a0 = train_data[0]\n",
        "    # if counter == 76:\n",
        "    #   print(counter)\n",
        "    #   show_image(train_data[0])\n",
        "    a1 = sigmoid(weight1 @ a0 + bias1)\n",
        "    a2 = sigmoid(weight2 @ a1 + bias2)\n",
        "    a3 = sigmoid(weight3 @ a2 + bias3)\n",
        "    \n",
        "    predicted = np.where(a3 == np.amax(a3))\n",
        "    real = np.where(train_data[1] == np.amax(train_data[1]))\n",
        "\n",
        "    if predicted == real:\n",
        "        counter += 1\n",
        "print(counter)\n",
        "print(\"Accuracy:\" , counter / num_of_train_images * 100)\n",
        "print(\"Duration time: \", finish-start)"
      ],
      "metadata": {
        "colab": {
          "base_uri": "https://localhost:8080/",
          "height": 334
        },
        "id": "u4OK-velXbCJ",
        "outputId": "91f91a57-6d48-4aab-e492-256fddae76ad"
      },
      "execution_count": 185,
      "outputs": [
        {
          "output_type": "stream",
          "name": "stdout",
          "text": [
            "60000\n",
            "45\n",
            "Accuracy: 45.0\n",
            "Duration time:  0:01:24.867974\n"
          ]
        },
        {
          "output_type": "display_data",
          "data": {
            "text/plain": [
              "<Figure size 432x288 with 1 Axes>"
            ],
            "image/png": "[encoded data removed]"
          },
          "metadata": {
            "needs_background": "light"
          }
        }
      ]
    },
    {
      "cell_type": "markdown",
      "source": [
        "3) Vectorization"
      ],
      "metadata": {
        "id": "RxT1NUiXokOz"
      }
    },
    {
      "cell_type": "code",
      "source": [
        "weight1 = np.random.normal(size = (hidden_layer_neurons, input_neurons))\n",
        "weight2 = np.random.normal(size = (hidden_layer_neurons, hidden_layer_neurons))\n",
        "weight3 = np.random.normal(size = (output_neurons, hidden_layer_neurons))\n",
        "bias1 = np.zeros((16, 1))\n",
        "bias2 = np.zeros((16, 1))\n",
        "bias3 = np.zeros((10, 1))\n",
        "\n",
        "total_cost = []\n",
        "number_of_epochs = 200\n",
        "\n",
        "start = datetime.now()\n",
        "\n",
        "for i in range(number_of_epochs):\n",
        "    \n",
        "    batches = [train_set[x : x+batch_size] for x in range(0, num_of_train_images, batch_size)]\n",
        "    \n",
        "    for batch in batches:\n",
        "        \n",
        "        gradient_weight1 = np.zeros((hidden_layer_neurons, input_neurons))\n",
        "        gradient_weight2 = np.zeros((hidden_layer_neurons, hidden_layer_neurons))\n",
        "        gradient_weight3 = np.zeros((output_neurons, hidden_layer_neurons))\n",
        "       \n",
        "        gradient_bias1 = np.zeros((16, 1))\n",
        "        gradient_bias2 = np.zeros((16, 1))\n",
        "        gradient_bias3 = np.zeros((10, 1))\n",
        "        \n",
        "        for img, lbl in batch:\n",
        "            \n",
        "            a1 = sigmoid(weight1 @ img + bias1)\n",
        "            a2 = sigmoid(weight2 @ a1 + bias2)\n",
        "            a3 = sigmoid(weight3 @ a2 + bias3)\n",
        "            \n",
        "           \n",
        "            gradient_weight3 += (2 * (a3 - lbl) * a3 * (1 - a3)) @ np.transpose(a2)\n",
        "            \n",
        "            \n",
        "            gradient_bias3 += (2 * (a3 - lbl) * a3 * (1 - a3))\n",
        "            \n",
        "            \n",
        "            activation_3 = np.zeros((16, 1))\n",
        "            activation_3 += np.transpose(weight3) @ (2 *(a3 - lbl) * (a3 * (1 - a3)))\n",
        "            \n",
        "           \n",
        "            gradient_weight2 += (a2 * (1 - a2) * activation_3) @ np.transpose(a1)\n",
        "            \n",
        "            \n",
        "            gradient_bias2 += activation_3 * a2 * (1 - a2)\n",
        "                    \n",
        "           \n",
        "            activation_2 = np.zeros((16, 1))\n",
        "            activation_2 += np.transpose(weight2) @ activation_3 * a2 * (1 - a2)\n",
        "            \n",
        "          \n",
        "            gradient_weight1 += (activation_2 * a1 * (1 - a1)) @ np.transpose(img)\n",
        "                    \n",
        "            \n",
        "            gradient_bias1 += activation_2 * a1 * (1 - a1)\n",
        "        \n",
        "        weight3 = weight3 - (learning_rate * (gradient_weight3 / batch_size))\n",
        "        weight2 = weight2 - (learning_rate * (gradient_weight2 / batch_size))\n",
        "        weight1 = weight1 - (learning_rate * (gradient_weight1 / batch_size))\n",
        "        \n",
        "        bias3 = bias3 - (learning_rate * (gradient_bias3 / batch_size))\n",
        "        bias2 = bias2 - (learning_rate * (gradient_bias2 / batch_size))\n",
        "        bias1 = bias1 - (learning_rate * (gradient_bias1 / batch_size))\n",
        "    \n",
        "      # calculate cost average per epoch\n",
        "    cost = 0\n",
        "    for train_data in train_set[:num_of_train_images]:\n",
        "        a0 = train_data[0]\n",
        "        a1 = sigmoid(weight1 @ a0 + bias1)\n",
        "        a2 = sigmoid(weight2 @ a1 + bias2)\n",
        "        a3 = sigmoid(weight3 @ a2 + bias3)\n",
        "\n",
        "        for j in range(output_neurons):\n",
        "            cost += np.power((a3[j, 0] - train_data[1][j , 0]), 2)\n",
        "            \n",
        "    cost /= num_of_train_images\n",
        "    total_cost.append(cost)\n",
        "\n",
        "# get the finish time\n",
        "finish = datetime.now()  \n"
      ],
      "metadata": {
        "id": "ueocv29EoZTH"
      },
      "execution_count": 186,
      "outputs": []
    },
    {
      "cell_type": "code",
      "source": [
        "epoch_size = [x for x in range(number_of_epochs)]\n",
        "plt.plot(epoch_size, total_cost, '-b', label = 'train')\n",
        "plt.legend()\n",
        "correct = 0\n",
        "for train_data in train_set[:num_of_train_images]:\n",
        "    a0 = train_data[0]\n",
        "    a1 = sigmoid(weight1 @ a0 + bias1)\n",
        "    a2 = sigmoid(weight2 @ a1 + bias2)\n",
        "    a3 = sigmoid(weight3 @ a2 + bias3)\n",
        "    \n",
        "    predicted = np.where(a3 == np.amax(a3))\n",
        "    real = np.where(train_data[1] == np.amax(train_data[1]))\n",
        "    \n",
        "    if predicted == real:\n",
        "        correct += 1\n",
        "        \n",
        "print('Accuracy: ',  correct / num_of_train_images * 100,\"%\")\n",
        "print(\"Duration time: \", finish-start)"
      ],
      "metadata": {
        "colab": {
          "base_uri": "https://localhost:8080/",
          "height": 300
        },
        "id": "gjWqJ7isvJQX",
        "outputId": "6b048d3a-9d16-4e5f-c0f4-c5477b0355f3"
      },
      "execution_count": 189,
      "outputs": [
        {
          "output_type": "stream",
          "name": "stdout",
          "text": [
            "Accuracy:  98.0 %\n",
            "Duration time:  0:00:07.383278\n"
          ]
        },
        {
          "output_type": "display_data",
          "data": {
            "text/plain": [
              "<Figure size 432x288 with 1 Axes>"
            ],
            "image/png": "[encoded data removed]"
          },
          "metadata": {
            "needs_background": "light"
          }
        }
      ]
    },
    {
      "cell_type": "markdown",
      "source": [
        "4) Testing The Model"
      ],
      "metadata": {
        "id": "Yc2PfL-eAqNv"
      }
    },
    {
      "cell_type": "code",
      "source": [
        "W1 = np.random.normal(size=(hidden_layer_neurons,input_neurons))\n",
        "W2 = np.random.normal(size=(hidden_layer_neurons, hidden_layer_neurons))\n",
        "W3 = np.random.normal(size=(output_neurons, hidden_layer_neurons))\n",
        "b1 = np.zeros((16, 1))\n",
        "b2 = np.zeros((16, 1))\n",
        "b3 = np.zeros((10, 1))\n",
        "\n",
        "total_cost = []\n",
        "batch_size = 50\n",
        "learning_rate = 1\n",
        "number_of_epochs = 5\n",
        "\n",
        "# get the start time\n",
        "start = datetime.now()\n",
        "\n",
        "for i in range(number_of_epochs):\n",
        "    np.random.shuffle(train_set)\n",
        "    batches = [train_set[x : x+batch_size] for x in range(0, 60000, batch_size)]\n",
        "    \n",
        "    for batch in batches:\n",
        "        \n",
        "        gradient_weight1 = np.zeros((hidden_layer_neurons, input_neurons))\n",
        "        gradient_weight2 = np.zeros((hidden_layer_neurons, hidden_layer_neurons))\n",
        "        gradient_weight3 = np.zeros((output_neurons, hidden_layer_neurons))\n",
        "       \n",
        "        gradient_bias1 = np.zeros((16, 1))\n",
        "        gradient_bias2 = np.zeros((16, 1))\n",
        "        gradient_bias3 = np.zeros((10, 1))\n",
        "        \n",
        "        for img, lbl in batch:\n",
        "            \n",
        "            a1 = sigmoid(weight1 @ img + bias1)\n",
        "            a2 = sigmoid(weight2 @ a1 + bias2)\n",
        "            a3 = sigmoid(weight3 @ a2 + bias3)\n",
        "            \n",
        "           \n",
        "            gradient_weight3 += (2 * (a3 - lbl) * a3 * (1 - a3)) @ np.transpose(a2)\n",
        "            \n",
        "            \n",
        "            gradient_bias3 += (2 * (a3 - lbl) * a3 * (1 - a3))\n",
        "            \n",
        "            \n",
        "            activation_3 = np.zeros((16, 1))\n",
        "            activation_3 += np.transpose(weight3) @ (2 *(a3 - lbl) * (a3 * (1 - a3)))\n",
        "            \n",
        "           \n",
        "            gradient_weight2 += (a2 * (1 - a2) * activation_3) @ np.transpose(a1)\n",
        "            \n",
        "            \n",
        "            gradient_bias2 += activation_3 * a2 * (1 - a2)\n",
        "                    \n",
        "           \n",
        "            activation_2 = np.zeros((16, 1))\n",
        "            activation_2 += np.transpose(weight2) @ activation_3 * a2 * (1 - a2)\n",
        "            \n",
        "          \n",
        "            gradient_weight1 += (activation_2 * a1 * (1 - a1)) @ np.transpose(img)\n",
        "                    \n",
        "            \n",
        "            gradient_bias1 += activation_2 * a1 * (1 - a1)\n",
        "        \n",
        "        weight3 = weight3 - (learning_rate * (gradient_weight3 / batch_size))\n",
        "        weight2 = weight2 - (learning_rate * (gradient_weight2 / batch_size))\n",
        "        weight1 = weight1 - (learning_rate * (gradient_weight1 / batch_size))\n",
        "        \n",
        "        bias3 = bias3 - (learning_rate * (gradient_bias3 / batch_size))\n",
        "        bias2 = bias2 - (learning_rate * (gradient_bias2 / batch_size))\n",
        "        bias1 = bias1 - (learning_rate * (gradient_bias1 / batch_size))\n",
        "    \n",
        "      # calculate cost average per epoch\n",
        "    cost = 0\n",
        "    for train_data in train_set[:60000]:\n",
        "        a0 = train_data[0]\n",
        "        a1 = sigmoid(weight1 @ a0 + bias1)\n",
        "        a2 = sigmoid(weight2 @ a1 + bias2)\n",
        "        a3 = sigmoid(weight3 @ a2 + bias3)\n",
        "\n",
        "        for j in range(output_neurons):\n",
        "            cost += np.power((a3[j, 0] - train_data[1][j , 0]), 2)\n",
        "            \n",
        "    cost /= 60000\n",
        "    total_cost.append(cost)\n",
        "\n",
        "# get the finish time\n",
        "finish = datetime.now()  \n"
      ],
      "metadata": {
        "id": "3Og1YmJAApQs"
      },
      "execution_count": 190,
      "outputs": []
    },
    {
      "cell_type": "code",
      "source": [
        "epoch_size = [x for x in range(number_of_epochs)]\n",
        "plt.plot(epoch_size, total_cost, '-b', label = 'train')\n",
        "plt.legend()\n",
        "correct = 0\n",
        "for test_data in train_set[:60000]:\n",
        "    a0 = test_data[0]\n",
        "    a1 = sigmoid(weight1 @ a0 + bias1)\n",
        "    a2 = sigmoid(weight2 @ a1 + bias2)\n",
        "    a3 = sigmoid(weight3 @ a2 + bias3)\n",
        "    \n",
        "    predicted = np.where(a3 == np.amax(a3))\n",
        "    real = np.where(test_data[1] == np.amax(test_data[1]))\n",
        "    \n",
        "    if predicted == real:\n",
        "        correct += 1\n",
        "        \n",
        "print(f\"Accuracy For Train Data: {correct/60000 *100 }\")\n",
        "print(\"Duration time: \", finish-start)"
      ],
      "metadata": {
        "colab": {
          "base_uri": "https://localhost:8080/",
          "height": 300
        },
        "id": "GBZ0T3q7B-84",
        "outputId": "08e95aa4-cdf4-4b92-db95-02219d1a475f"
      },
      "execution_count": 191,
      "outputs": [
        {
          "output_type": "stream",
          "name": "stdout",
          "text": [
            "Accuracy For Train Data: 89.82\n",
            "Duration time:  0:01:54.438621\n"
          ]
        },
        {
          "output_type": "display_data",
          "data": {
            "text/plain": [
              "<Figure size 432x288 with 1 Axes>"
            ],
            "image/png": "[encoded data removed]"
          },
          "metadata": {
            "needs_background": "light"
          }
        }
      ]
    },
    {
      "cell_type": "code",
      "source": [
        "correct = 0\n",
        "for test_data in test_set:\n",
        "    a0 = test_data[0]\n",
        "    a1 = sigmoid(weight1 @ a0 + bias1)\n",
        "    a2 = sigmoid(weight2 @ a1 + bias2)\n",
        "    a3 = sigmoid(weight3 @ a2 + bias3)\n",
        "    \n",
        "    predicted = np.where(a3 == np.amax(a3))\n",
        "    real = np.where(test_data[1] == np.amax(test_data[1]))\n",
        "    \n",
        "    if predicted == real:\n",
        "        correct += 1\n",
        "print(f\"Accuracy For Test Data: {correct/10000 *100 }\")"
      ],
      "metadata": {
        "colab": {
          "base_uri": "https://localhost:8080/"
        },
        "id": "sn0Uzkn9CKym",
        "outputId": "7a383e97-4393-4c2f-9038-094b577bf32e"
      },
      "execution_count": 192,
      "outputs": [
        {
          "output_type": "stream",
          "name": "stdout",
          "text": [
            "Accuracy For Test Data: 89.63\n"
          ]
        }
      ]
    }
  ]
}